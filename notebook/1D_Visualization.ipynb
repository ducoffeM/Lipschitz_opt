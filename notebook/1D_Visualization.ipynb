{
 "cells": [
  {
   "cell_type": "markdown",
   "id": "medium-headline",
   "metadata": {},
   "source": [
    "# Generating 1D TOY function for Studying the Piyavskii’s algorithm"
   ]
  },
  {
   "cell_type": "markdown",
   "id": "photographic-terrain",
   "metadata": {},
   "source": [
    "When it comes to safety critical AI, recent works have highlighted the huge interest of proving global properties \n",
    "of an AI Model. Since most AI Models can be expressed as a **Lipschitz** function, **global optimization** using the knowledge\n",
    "of the Lipschitz constant or some upper bound of it,  is one solution to bound the extreme values of the AI Model.\n",
    "\n",
    "However, the runtime complexity or sample complexity inherent with some Lipschitz optimization technique is still\n",
    "a research topic. The goal of this notebook is to generate some well studied 1D function with **known Lipschitz constant**\n",
    "in order to analyze the complexity of *Lipschitz optimization* on those functions."
   ]
  },
  {
   "cell_type": "markdown",
   "id": "hybrid-controversy",
   "metadata": {},
   "source": [
    "### Import"
   ]
  },
  {
   "cell_type": "code",
   "execution_count": 1,
   "id": "personal-handbook",
   "metadata": {},
   "outputs": [],
   "source": [
    "import numpy as np # for sampling points\n",
    "import sys # necessary for local path. If you install the library, it can be removed\n",
    "sys.path.append('..') \n",
    "import lipschitz_opt\n",
    "import matplotlib.pyplot as plt # visualization\n",
    "from ipywidgets import interact, widgets # for playing with the hyperparameters on the functions"
   ]
  },
  {
   "cell_type": "code",
   "execution_count": 2,
   "id": "incomplete-edition",
   "metadata": {},
   "outputs": [],
   "source": [
    "from lipschitz_opt.application import Func1D_0, Func1D_composite"
   ]
  },
  {
   "cell_type": "markdown",
   "id": "specific-country",
   "metadata": {},
   "source": [
    "## 1) Simple function: f(x) = d-c|x-a|^b\n",
    "\n",
    "The first function under study is f(x) = d-c|x-a|^b. Both hyperparameters **(a,b,c, d)** are real values than can be\n",
    "set by the users and are set to 1 if not provided by the users. Extra options include the domain of definition: **x_min** and **x_max** that are respectively set to 0.and 1. if not provided\n",
    "<img src=\"./data/function_1_example.png\" alt=\"Simple 1D Function!\" width=\"400\"/>\n",
    "\n",
    "We first start by creating one toy function: *f* and plot the results on the domain"
   ]
  },
  {
   "cell_type": "code",
   "execution_count": 3,
   "id": "amended-catalog",
   "metadata": {},
   "outputs": [
    {
     "data": {
      "text/plain": [
       "Text(0.5, 1.0, 'f(x)= 1.0-1.0*|x-0.5|^1.0 for 0.0<=x<=1.0')"
      ]
     },
     "execution_count": 3,
     "metadata": {},
     "output_type": "execute_result"
    },
    {
     "data": {
      "image/png": "[encoded data removed]",
      "text/plain": [
       "<Figure size 432x288 with 1 Axes>"
      ]
     },
     "metadata": {
      "needs_background": "light"
     },
     "output_type": "display_data"
    }
   ],
   "source": [
    "f = Func1D_0(a=0.5)\n",
    "x = np.linspace(f.x_min, f.x_max, 100) # samples for visualization\n",
    "y =f(x) # output\n",
    "\n",
    "plt.plot(x, y)\n",
    "plt.title('f(x)= {}-{}*|x-{}|^{} for {}<=x<={}'.format(f.d, f.c, f.a, f.b, f.x_min, f.x_max))"
   ]
  },
  {
   "cell_type": "markdown",
   "id": "minimal-august",
   "metadata": {},
   "source": [
    "We also propose an off-the-shelf method to approximate the Lipschitz constant based on an Lp norm. However, note that\n",
    "this lipschitz constant is based on sampling the gradient of the function using auto-differentation. Therefore, there\n",
    "may be some numerical errors."
   ]
  },
  {
   "cell_type": "code",
   "execution_count": 4,
   "id": "moral-likelihood",
   "metadata": {},
   "outputs": [
    {
     "name": "stdout",
     "output_type": "stream",
     "text": [
      "approximation of the Lipschitz constant for infinite norm is 1.0\n"
     ]
    }
   ],
   "source": [
    "L = f.lipschitz()\n",
    "print('approximation of the Lipschitz constant for infinite norm is {}'.format(L))"
   ]
  },
  {
   "cell_type": "markdown",
   "id": "assisted-thompson",
   "metadata": {},
   "source": [
    "The next cell is interactive in order to play with all the hyperparameters of the function"
   ]
  },
  {
   "cell_type": "code",
   "execution_count": 5,
   "id": "criminal-movement",
   "metadata": {},
   "outputs": [
    {
     "data": {
      "application/vnd.jupyter.widget-view+json": {
       "model_id": "977c76c1e1364e0fbc3493eceebdf0fa",
       "version_major": 2,
       "version_minor": 0
      },
      "text/plain": [
       "interactive(children=(FloatSlider(value=0.5, continuous_update=False, description='a', max=1.0), FloatSlider(v…"
      ]
     },
     "metadata": {},
     "output_type": "display_data"
    },
    {
     "data": {
      "text/plain": [
       "<function __main__.play_0(a, b, c, d)>"
      ]
     },
     "execution_count": 5,
     "metadata": {},
     "output_type": "execute_result"
    }
   ],
   "source": [
    "def play_0(a, b, c, d):\n",
    "    \n",
    "    x_min=0.\n",
    "    x_max=1.\n",
    "    f_ = Func1D_0(a=a, b=b, c=c, d=d, x_min=x_min, x_max=x_max)\n",
    "    x = np.linspace(f.x_min, f.x_max, 100)\n",
    "    y = f_(x)\n",
    "    L = f_.lipschitz()\n",
    "    plt.plot(x, y)\n",
    "    plt.title('f(x)= {}-{}*|x-{}|^{} for {}<=x<={}, Lipschitz = {}'.format(f.d, f.c, f.a, f.b, f.x_min, f.x_max, L))\n",
    "    \n",
    "interact(play_0, \n",
    "         a = widgets.FloatSlider(value=0.5, min=0., max=1, step=0.1, continuous_update=False),\n",
    "         b = widgets.FloatSlider(value=1., min=1., max=4, step=0.1, continuous_update=False),\n",
    "         c = widgets.FloatSlider(value=1., min=-3., max=3, step=0.1, continuous_update=False),\n",
    "         d = widgets.FloatSlider(value=1., min=-3., max=3, step=0.1, continuous_update=False)\n",
    "        )\n",
    "    "
   ]
  },
  {
   "cell_type": "markdown",
   "id": "junior-passage",
   "metadata": {},
   "source": [
    "## 2) Composition function:\n",
    "\n",
    "The next function is a composition between two simple functions. It takes as input a list of simple 1d functions and the name of an operator that will combine the simple functions. Among the possible operators, the current ones implemented are **max**, **min**, **sum**, **mean**. All the listed simple functions should be define on the same domain x_min, x_max. If not, an error will be raised. \n",
    "<img src=\"./data/function_2_example.png\" alt=\"Compositive of two 1D Function!\" width=\"400\"/>\n",
    "\n",
    "We first start by creating one composited function: *f* from two simple functions f_0 and f_12. We also plot the results on the domain of every functions."
   ]
  },
  {
   "cell_type": "code",
   "execution_count": 7,
   "id": "interesting-documentary",
   "metadata": {},
   "outputs": [],
   "source": [
    "f_0 = Func1D_0(a=0.25, c=1.)\n",
    "f_1 = Func1D_0(a=0.75, b=2, c=0.6)\n",
    "f_2 = Func1D_composite([f_0,f_1], op='max')"
   ]
  },
  {
   "cell_type": "code",
   "execution_count": 8,
   "id": "interior-humor",
   "metadata": {},
   "outputs": [],
   "source": [
    "y_0 = f_0(x)\n",
    "y_1 = f_1(x)\n",
    "y_2 = f_2(x)"
   ]
  },
  {
   "cell_type": "code",
   "execution_count": 9,
   "id": "peaceful-institute",
   "metadata": {},
   "outputs": [
    {
     "data": {
      "text/plain": [
       "Text(0.5, 1.0, 'f(x)= max(1.0-1.0*|x-0.25|^1.0, 1.0-0.6*|x-0.75|^2)')"
      ]
     },
     "execution_count": 9,
     "metadata": {},
     "output_type": "execute_result"
    },
    {
     "data": {
      "image/png": "[encoded data removed]",
      "text/plain": [
       "<Figure size 432x288 with 1 Axes>"
      ]
     },
     "metadata": {
      "needs_background": "light"
     },
     "output_type": "display_data"
    }
   ],
   "source": [
    "plt.plot(x, y_0, '--', c='blue')\n",
    "plt.plot(x, y_1, '--', c='green')\n",
    "plt.plot(x, y_2, '-', c='k')\n",
    "plt.legend(['f_0', 'f_1', 'max(f_0, f_1)'])\n",
    "plt.title('f(x)= max({}-{}*|x-{}|^{}, {}-{}*|x-{}|^{})'.format(f_0.d, f_0.c, f_0.a, f_0.b, f_1.d, f_1.c, f_1.a, f_1.b))"
   ]
  },
  {
   "cell_type": "code",
   "execution_count": 10,
   "id": "economic-warehouse",
   "metadata": {},
   "outputs": [
    {
     "name": "stdout",
     "output_type": "stream",
     "text": [
      "approximation of the Lipschitz constant for infinite norm is 1.0\n"
     ]
    }
   ],
   "source": [
    "L = f_2.lipschitz()\n",
    "print('approximation of the Lipschitz constant for infinite norm is {}'.format(L))"
   ]
  },
  {
   "cell_type": "markdown",
   "id": "collectible-treaty",
   "metadata": {},
   "source": [
    "The next cell is interactive in order to play with all the hyperparameters of the function"
   ]
  },
  {
   "cell_type": "code",
   "execution_count": 11,
   "id": "prescription-means",
   "metadata": {},
   "outputs": [
    {
     "data": {
      "application/vnd.jupyter.widget-view+json": {
       "model_id": "6b9cad47aef743619f655d0f66cfaa85",
       "version_major": 2,
       "version_minor": 0
      },
      "text/plain": [
       "interactive(children=(FloatSlider(value=0.25, continuous_update=False, description='a_0', max=1.0), FloatSlide…"
      ]
     },
     "metadata": {},
     "output_type": "display_data"
    },
    {
     "data": {
      "text/plain": [
       "<function __main__.play_1(a_0, b_0, c_0, d_0, a_1, b_1, c_1, d_1)>"
      ]
     },
     "execution_count": 11,
     "metadata": {},
     "output_type": "execute_result"
    }
   ],
   "source": [
    "def play_1(a_0, b_0, c_0, d_0, a_1, b_1, c_1, d_1):\n",
    "    \n",
    "    x_min=0.\n",
    "    x_max=1.\n",
    "    f_0 = Func1D_0(a=a_0, b=b_0, c=c_0, d=d_0, x_min=x_min, x_max=x_max)\n",
    "    f_1 = Func1D_0(a=a_1, b=b_1, c=c_1, d=d_1, x_min=x_min, x_max=x_max)\n",
    "    f_ = Func1D_composite([f_0, f_1])\n",
    "    x = np.linspace(f.x_min, f.x_max, 100)\n",
    "    y = f_(x)\n",
    "    y_0 = f_0(x)\n",
    "    y_1 = f_1(x)\n",
    "    L = f_.lipschitz()\n",
    "    plt.plot(x, y_0, '--', c='blue')\n",
    "    plt.plot(x, y_1, '--', c='green')\n",
    "    plt.plot(x, y, '-', c='k')\n",
    "    plt.legend(['f_0', 'f_1', 'max(f_0, f_1)'])\n",
    "    plt.title('f(x)= max({}-{}*|x-{}|^{}, {}-{}*|x-{}|^{}), Lipschitz={}'.format(f_0.d, f_0.c, f_0.a, f_0.b, f_1.d, f_1.c, f_1.a, f_1.b,L))\n",
    "\n",
    "   \n",
    "interact(play_1, \n",
    "         a_0 = widgets.FloatSlider(value=0.25, min=0., max=1, step=0.1, continuous_update=False),\n",
    "         b_0 = widgets.FloatSlider(value=1., min=1., max=4, step=0.1, continuous_update=False),\n",
    "         c_0 = widgets.FloatSlider(value=1., min=-3., max=3, step=0.1, continuous_update=False),\n",
    "         d_0 = widgets.FloatSlider(value=1., min=-3., max=3, step=0.1, continuous_update=False),\n",
    "         a_1 = widgets.FloatSlider(value=0.75, min=0., max=1, step=0.1, continuous_update=False),\n",
    "         b_1 = widgets.FloatSlider(value=2., min=1., max=4, step=0.1, continuous_update=False),\n",
    "         c_1 = widgets.FloatSlider(value=0.6, min=-3., max=3, step=0.1, continuous_update=False),\n",
    "         d_1 = widgets.FloatSlider(value=1., min=-3., max=3, step=0.1, continuous_update=False)\n",
    "        )\n",
    "    "
   ]
  },
  {
   "cell_type": "markdown",
   "id": "sound-marathon",
   "metadata": {},
   "source": [
    "## 3) Composition of function with multiple scale:\n",
    "\n",
    "The next function is a composition between three simple functions. We use the same class as before **Func1D_composite** ands reproduce the following example:\n",
    " \n",
    "<img src=\"./data/function_3_example.png\" alt=\"Compositive of two 1D Function!\" width=\"400\"/>\n",
    "\n",
    "We first start by creating one composited function: *f* from two functions f_0 and f_12. We also plot the results on the domain of every functions."
   ]
  },
  {
   "cell_type": "code",
   "execution_count": 25,
   "id": "different-ideal",
   "metadata": {},
   "outputs": [],
   "source": [
    "f_0 = Func1D_0(a=0.5, c=1.)\n",
    "f_1 = Func1D_0(a=0.5, b=2, c=1., d=0.9)\n",
    "f_2 = Func1D_composite([f_0,f_1], op='min')\n",
    "\n",
    "y_0 = f_0(x)\n",
    "y_1 = f_1(x)\n",
    "y_2 = f_2(x)"
   ]
  },
  {
   "cell_type": "code",
   "execution_count": 26,
   "id": "spanish-brother",
   "metadata": {},
   "outputs": [
    {
     "data": {
      "text/plain": [
       "Text(0.5, 1.0, 'f(x)= min(1.0-1.0*|x-0.5|^1.0, 0.9-1.0*|x-0.5|^2)')"
      ]
     },
     "execution_count": 26,
     "metadata": {},
     "output_type": "execute_result"
    },
    {
     "data": {
      "image/png": "[encoded data removed]",
      "text/plain": [
       "<Figure size 432x288 with 1 Axes>"
      ]
     },
     "metadata": {
      "needs_background": "light"
     },
     "output_type": "display_data"
    }
   ],
   "source": [
    "plt.plot(x, y_0, '--', c='blue')\n",
    "plt.plot(x, y_1, '--', c='green')\n",
    "plt.plot(x, y_2, '-', c='k')\n",
    "plt.legend(['f_0', 'f_1', 'min(f_0, f_1)'])\n",
    "plt.title('f(x)= min({}-{}*|x-{}|^{}, {}-{}*|x-{}|^{})'.format(f_0.d, f_0.c, f_0.a, f_0.b, f_1.d, f_1.c, f_1.a, f_1.b))"
   ]
  },
  {
   "cell_type": "code",
   "execution_count": null,
   "id": "downtown-leonard",
   "metadata": {},
   "outputs": [],
   "source": []
  }
 ],
 "metadata": {
  "kernelspec": {
   "display_name": "Python 3",
   "language": "python",
   "name": "python3"
  },
  "language_info": {
   "codemirror_mode": {
    "name": "ipython",
    "version": 3
   },
   "file_extension": ".py",
   "mimetype": "text/x-python",
   "name": "python",
   "nbconvert_exporter": "python",
   "pygments_lexer": "ipython3",
   "version": "3.7.10"
  }
 },
 "nbformat": 4,
 "nbformat_minor": 5
}
